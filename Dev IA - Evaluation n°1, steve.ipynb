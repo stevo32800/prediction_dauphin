{
 "cells": [
  {
   "cell_type": "markdown",
   "id": "8506141c",
   "metadata": {},
   "source": [
    "# Dolphins"
   ]
  },
  {
   "cell_type": "markdown",
   "id": "77467dc3",
   "metadata": {},
   "source": [
    "## Lecture du jeu de donnée"
   ]
  },
  {
   "cell_type": "code",
   "execution_count": 1,
   "id": "796e8e4f",
   "metadata": {},
   "outputs": [],
   "source": [
    "import sqlite3\n",
    "import pandas as pd\n",
    "import matplotlib.pyplot as plt\n",
    "import pandas\n",
    "import numpy\n",
    "import seaborn as sns\n",
    "%matplotlib inline\n"
   ]
  },
  {
   "cell_type": "code",
   "execution_count": 2,
   "id": "1222a9e8",
   "metadata": {},
   "outputs": [
    {
     "data": {
      "text/html": [
       "<div>\n",
       "<style scoped>\n",
       "    .dataframe tbody tr th:only-of-type {\n",
       "        vertical-align: middle;\n",
       "    }\n",
       "\n",
       "    .dataframe tbody tr th {\n",
       "        vertical-align: top;\n",
       "    }\n",
       "\n",
       "    .dataframe thead th {\n",
       "        text-align: right;\n",
       "    }\n",
       "</style>\n",
       "<table border=\"1\" class=\"dataframe\">\n",
       "  <thead>\n",
       "    <tr style=\"text-align: right;\">\n",
       "      <th></th>\n",
       "      <th>variety</th>\n",
       "      <th>area</th>\n",
       "      <th>dimension_1_mm</th>\n",
       "      <th>dimension_2_mm</th>\n",
       "      <th>dimension_3_mm</th>\n",
       "      <th>mass_g</th>\n",
       "      <th>sex</th>\n",
       "    </tr>\n",
       "  </thead>\n",
       "  <tbody>\n",
       "    <tr>\n",
       "      <th>0</th>\n",
       "      <td>Tropicalis</td>\n",
       "      <td>Artic</td>\n",
       "      <td>39.1</td>\n",
       "      <td>18.7</td>\n",
       "      <td>181.0</td>\n",
       "      <td>3750.0</td>\n",
       "      <td>MALE</td>\n",
       "    </tr>\n",
       "    <tr>\n",
       "      <th>1</th>\n",
       "      <td>Tropicalis</td>\n",
       "      <td>Artic</td>\n",
       "      <td>39.5</td>\n",
       "      <td>17.4</td>\n",
       "      <td>186.0</td>\n",
       "      <td>3800.0</td>\n",
       "      <td>FEMALE</td>\n",
       "    </tr>\n",
       "    <tr>\n",
       "      <th>2</th>\n",
       "      <td>Tropicalis</td>\n",
       "      <td>Artic</td>\n",
       "      <td>40.3</td>\n",
       "      <td>18.0</td>\n",
       "      <td>195.0</td>\n",
       "      <td>3250.0</td>\n",
       "      <td>FEMALE</td>\n",
       "    </tr>\n",
       "    <tr>\n",
       "      <th>3</th>\n",
       "      <td>Tropicalis</td>\n",
       "      <td>Artic</td>\n",
       "      <td>NaN</td>\n",
       "      <td>NaN</td>\n",
       "      <td>NaN</td>\n",
       "      <td>NaN</td>\n",
       "      <td>NaN</td>\n",
       "    </tr>\n",
       "    <tr>\n",
       "      <th>4</th>\n",
       "      <td>Tropicalis</td>\n",
       "      <td>Artic</td>\n",
       "      <td>36.7</td>\n",
       "      <td>19.3</td>\n",
       "      <td>193.0</td>\n",
       "      <td>3450.0</td>\n",
       "      <td>FEMALE</td>\n",
       "    </tr>\n",
       "  </tbody>\n",
       "</table>\n",
       "</div>"
      ],
      "text/plain": [
       "      variety   area  dimension_1_mm  dimension_2_mm  dimension_3_mm  mass_g  \\\n",
       "0  Tropicalis  Artic            39.1            18.7           181.0  3750.0   \n",
       "1  Tropicalis  Artic            39.5            17.4           186.0  3800.0   \n",
       "2  Tropicalis  Artic            40.3            18.0           195.0  3250.0   \n",
       "3  Tropicalis  Artic             NaN             NaN             NaN     NaN   \n",
       "4  Tropicalis  Artic            36.7            19.3           193.0  3450.0   \n",
       "\n",
       "      sex  \n",
       "0    MALE  \n",
       "1  FEMALE  \n",
       "2  FEMALE  \n",
       "3     NaN  \n",
       "4  FEMALE  "
      ]
     },
     "execution_count": 2,
     "metadata": {},
     "output_type": "execute_result"
    }
   ],
   "source": [
    "import pandas as pd\n",
    "url = \"https://raw.githubusercontent.com/remijul/dataset/master/dolphins.csv\"\n",
    "df = pd.read_csv(url)\n",
    "df.head()"
   ]
  },
  {
   "cell_type": "markdown",
   "id": "1a8cbca7",
   "metadata": {},
   "source": [
    "Dans la lecture du jeu de donnes nous prenons connaissance des features:\n",
    "nous avons 6 features et une target.\n",
    "De plus nous remarquons que nous avons 2 types de donnees:\n",
    "- des donnees categrorielles\n",
    "-des donnees numeriques\n",
    "\n",
    "\n",
    "On conclut qu'il faudra utiliser dans la partie preprocessing des encoders dans un pipeline.\n",
    "\n"
   ]
  },
  {
   "cell_type": "markdown",
   "id": "c8a30657",
   "metadata": {},
   "source": [
    "## Etudes exploratoires des donnees (EDA)"
   ]
  },
  {
   "cell_type": "markdown",
   "id": "cb3c947b",
   "metadata": {},
   "source": [
    "Nous allons maintenant analyser plus en detail notre jeu de donnees"
   ]
  },
  {
   "cell_type": "code",
   "execution_count": 3,
   "id": "71af06f7",
   "metadata": {},
   "outputs": [
    {
     "data": {
      "text/html": [
       "<div>\n",
       "<style scoped>\n",
       "    .dataframe tbody tr th:only-of-type {\n",
       "        vertical-align: middle;\n",
       "    }\n",
       "\n",
       "    .dataframe tbody tr th {\n",
       "        vertical-align: top;\n",
       "    }\n",
       "\n",
       "    .dataframe thead th {\n",
       "        text-align: right;\n",
       "    }\n",
       "</style>\n",
       "<table border=\"1\" class=\"dataframe\">\n",
       "  <thead>\n",
       "    <tr style=\"text-align: right;\">\n",
       "      <th></th>\n",
       "      <th>dimension_1_mm</th>\n",
       "      <th>dimension_2_mm</th>\n",
       "      <th>dimension_3_mm</th>\n",
       "      <th>mass_g</th>\n",
       "    </tr>\n",
       "  </thead>\n",
       "  <tbody>\n",
       "    <tr>\n",
       "      <th>count</th>\n",
       "      <td>342.000000</td>\n",
       "      <td>342.000000</td>\n",
       "      <td>342.000000</td>\n",
       "      <td>342.000000</td>\n",
       "    </tr>\n",
       "    <tr>\n",
       "      <th>mean</th>\n",
       "      <td>43.921930</td>\n",
       "      <td>17.151170</td>\n",
       "      <td>200.915205</td>\n",
       "      <td>4201.754386</td>\n",
       "    </tr>\n",
       "    <tr>\n",
       "      <th>std</th>\n",
       "      <td>5.459584</td>\n",
       "      <td>1.974793</td>\n",
       "      <td>14.061714</td>\n",
       "      <td>801.954536</td>\n",
       "    </tr>\n",
       "    <tr>\n",
       "      <th>min</th>\n",
       "      <td>32.100000</td>\n",
       "      <td>13.100000</td>\n",
       "      <td>172.000000</td>\n",
       "      <td>2700.000000</td>\n",
       "    </tr>\n",
       "    <tr>\n",
       "      <th>25%</th>\n",
       "      <td>39.225000</td>\n",
       "      <td>15.600000</td>\n",
       "      <td>190.000000</td>\n",
       "      <td>3550.000000</td>\n",
       "    </tr>\n",
       "    <tr>\n",
       "      <th>50%</th>\n",
       "      <td>44.450000</td>\n",
       "      <td>17.300000</td>\n",
       "      <td>197.000000</td>\n",
       "      <td>4050.000000</td>\n",
       "    </tr>\n",
       "    <tr>\n",
       "      <th>75%</th>\n",
       "      <td>48.500000</td>\n",
       "      <td>18.700000</td>\n",
       "      <td>213.000000</td>\n",
       "      <td>4750.000000</td>\n",
       "    </tr>\n",
       "    <tr>\n",
       "      <th>max</th>\n",
       "      <td>59.600000</td>\n",
       "      <td>21.500000</td>\n",
       "      <td>231.000000</td>\n",
       "      <td>6300.000000</td>\n",
       "    </tr>\n",
       "  </tbody>\n",
       "</table>\n",
       "</div>"
      ],
      "text/plain": [
       "       dimension_1_mm  dimension_2_mm  dimension_3_mm       mass_g\n",
       "count      342.000000      342.000000      342.000000   342.000000\n",
       "mean        43.921930       17.151170      200.915205  4201.754386\n",
       "std          5.459584        1.974793       14.061714   801.954536\n",
       "min         32.100000       13.100000      172.000000  2700.000000\n",
       "25%         39.225000       15.600000      190.000000  3550.000000\n",
       "50%         44.450000       17.300000      197.000000  4050.000000\n",
       "75%         48.500000       18.700000      213.000000  4750.000000\n",
       "max         59.600000       21.500000      231.000000  6300.000000"
      ]
     },
     "execution_count": 3,
     "metadata": {},
     "output_type": "execute_result"
    }
   ],
   "source": [
    "df.describe()"
   ]
  },
  {
   "cell_type": "markdown",
   "id": "bb178819",
   "metadata": {},
   "source": [
    "le .describe nous donne un petit resume des valeurs numeriques sous forme de moyenne, valeur max, valeur min... Cela est tres utile pour connaitre mieux le jeu de donnees mais surtout pour voir si il n'y a pas de valeur trop aberrante et aussi pour nous aider dans les features dans le choix de nos encoders."
   ]
  },
  {
   "cell_type": "code",
   "execution_count": 4,
   "id": "1a4b384a",
   "metadata": {},
   "outputs": [
    {
     "data": {
      "text/plain": [
       "variety             3\n",
       "area                3\n",
       "dimension_1_mm    164\n",
       "dimension_2_mm     80\n",
       "dimension_3_mm     55\n",
       "mass_g             94\n",
       "sex                 3\n",
       "dtype: int64"
      ]
     },
     "execution_count": 4,
     "metadata": {},
     "output_type": "execute_result"
    }
   ],
   "source": [
    "df.nunique(axis=0)"
   ]
  },
  {
   "cell_type": "markdown",
   "id": "a41eca2c",
   "metadata": {},
   "source": [
    "### Etude de la target"
   ]
  },
  {
   "cell_type": "code",
   "execution_count": 5,
   "id": "45313aee",
   "metadata": {},
   "outputs": [
    {
     "name": "stdout",
     "output_type": "stream",
     "text": [
      "Nous prenons connaissance de la target qui est la variete de l'animal \n",
      " nous remarquons que la cible ne peut avoir que 3 choix possibles :\n",
      "\n",
      "Tropicalis    152\n",
      "Peale         124\n",
      "Chinensis      68\n",
      "Name: variety, dtype: int64\n",
      "\n",
      "\n",
      "On peut obeserver le pourcentage du numbre de chaque variete:\n",
      "Tropicalis    44.186047\n",
      "Peale         36.046512\n",
      "Chinensis     19.767442\n",
      "Name: variety, dtype: float64\n",
      "\n",
      "Notre jeu de donnees est plus ou moins equilibre, il n'y a pas de grandes differences entre chaque variete\n"
     ]
    },
    {
     "data": {
      "image/png": "[encoded data removed]",
      "text/plain": [
       "<Figure size 432x288 with 1 Axes>"
      ]
     },
     "metadata": {
      "needs_background": "light"
     },
     "output_type": "display_data"
    }
   ],
   "source": [
    "print(\"Nous prenons connaissance de la target qui est la variete de l'animal \\n nous remarquons que la cible ne peut avoir que 3 choix possibles :\")\n",
    "print()\n",
    "print(df['variety'].value_counts())\n",
    "print()\n",
    "\n",
    "df['variety'].value_counts().plot.bar()\n",
    "print()\n",
    "\n",
    "print('On peut obeserver le pourcentage du numbre de chaque variete:')\n",
    "print(df['variety'].value_counts(normalize=True) * 100)\n",
    "print()\n",
    "print(\"Notre jeu de donnees est plus ou moins equilibre, il n'y a pas de grandes differences entre chaque variete\")\n"
   ]
  },
  {
   "cell_type": "markdown",
   "id": "cefdfc22",
   "metadata": {},
   "source": [
    "### Etude des features"
   ]
  },
  {
   "cell_type": "markdown",
   "id": "f2e33d67",
   "metadata": {},
   "source": [
    "#### Proportion male/female"
   ]
  },
  {
   "cell_type": "code",
   "execution_count": 6,
   "id": "b48be189",
   "metadata": {},
   "outputs": [
    {
     "data": {
      "text/plain": [
       "MALE      168\n",
       "FEMALE    165\n",
       ".           1\n",
       "Name: sex, dtype: int64"
      ]
     },
     "execution_count": 6,
     "metadata": {},
     "output_type": "execute_result"
    },
    {
     "data": {
      "image/png": "[encoded data removed]",
      "text/plain": [
       "<Figure size 432x288 with 1 Axes>"
      ]
     },
     "metadata": {
      "needs_background": "light"
     },
     "output_type": "display_data"
    }
   ],
   "source": [
    "df['sex'].value_counts().plot.bar()\n",
    "df['sex'].value_counts()"
   ]
  },
  {
   "cell_type": "markdown",
   "id": "2cda1f4f",
   "metadata": {},
   "source": [
    "On remarque sur le plot ci-dessus un < . > nous allons donc le supprimer"
   ]
  },
  {
   "cell_type": "code",
   "execution_count": 7,
   "id": "5cd051d9",
   "metadata": {},
   "outputs": [],
   "source": [
    "df.drop(df.index[df['sex'] == '.'], inplace = True)"
   ]
  },
  {
   "cell_type": "code",
   "execution_count": 8,
   "id": "c9c90cf1",
   "metadata": {},
   "outputs": [
    {
     "data": {
      "text/plain": [
       "MALE      168\n",
       "FEMALE    165\n",
       "Name: sex, dtype: int64"
      ]
     },
     "execution_count": 8,
     "metadata": {},
     "output_type": "execute_result"
    },
    {
     "data": {
      "image/png": "[encoded data removed]",
      "text/plain": [
       "<Figure size 432x288 with 1 Axes>"
      ]
     },
     "metadata": {
      "needs_background": "light"
     },
     "output_type": "display_data"
    }
   ],
   "source": [
    "df['sex'].value_counts().plot.bar()\n",
    "df['sex'].value_counts()"
   ]
  },
  {
   "cell_type": "markdown",
   "id": "0290de93",
   "metadata": {},
   "source": [
    "Nous remarquons qu'il y a presque autant de male que de female, notre jeu de donnees est donc bien equilibre sur cette feature"
   ]
  },
  {
   "cell_type": "markdown",
   "id": "0473e558",
   "metadata": {},
   "source": [
    "#### Etude de la masse des dauphins en fonction de leur sexe et de leur type:"
   ]
  },
  {
   "cell_type": "code",
   "execution_count": 9,
   "id": "f96a061c",
   "metadata": {},
   "outputs": [
    {
     "data": {
      "text/html": [
       "<div>\n",
       "<style scoped>\n",
       "    .dataframe tbody tr th:only-of-type {\n",
       "        vertical-align: middle;\n",
       "    }\n",
       "\n",
       "    .dataframe tbody tr th {\n",
       "        vertical-align: top;\n",
       "    }\n",
       "\n",
       "    .dataframe thead th {\n",
       "        text-align: right;\n",
       "    }\n",
       "</style>\n",
       "<table border=\"1\" class=\"dataframe\">\n",
       "  <thead>\n",
       "    <tr style=\"text-align: right;\">\n",
       "      <th></th>\n",
       "      <th>variety</th>\n",
       "      <th>mass_g</th>\n",
       "      <th>sex</th>\n",
       "    </tr>\n",
       "  </thead>\n",
       "  <tbody>\n",
       "    <tr>\n",
       "      <th>0</th>\n",
       "      <td>Tropicalis</td>\n",
       "      <td>3750.0</td>\n",
       "      <td>MALE</td>\n",
       "    </tr>\n",
       "    <tr>\n",
       "      <th>1</th>\n",
       "      <td>Tropicalis</td>\n",
       "      <td>3800.0</td>\n",
       "      <td>FEMALE</td>\n",
       "    </tr>\n",
       "    <tr>\n",
       "      <th>2</th>\n",
       "      <td>Tropicalis</td>\n",
       "      <td>3250.0</td>\n",
       "      <td>FEMALE</td>\n",
       "    </tr>\n",
       "    <tr>\n",
       "      <th>3</th>\n",
       "      <td>Tropicalis</td>\n",
       "      <td>NaN</td>\n",
       "      <td>NaN</td>\n",
       "    </tr>\n",
       "    <tr>\n",
       "      <th>4</th>\n",
       "      <td>Tropicalis</td>\n",
       "      <td>3450.0</td>\n",
       "      <td>FEMALE</td>\n",
       "    </tr>\n",
       "  </tbody>\n",
       "</table>\n",
       "</div>"
      ],
      "text/plain": [
       "      variety  mass_g     sex\n",
       "0  Tropicalis  3750.0    MALE\n",
       "1  Tropicalis  3800.0  FEMALE\n",
       "2  Tropicalis  3250.0  FEMALE\n",
       "3  Tropicalis     NaN     NaN\n",
       "4  Tropicalis  3450.0  FEMALE"
      ]
     },
     "execution_count": 9,
     "metadata": {},
     "output_type": "execute_result"
    }
   ],
   "source": [
    "df_mass = df.drop(columns=['area','dimension_1_mm','dimension_2_mm','dimension_3_mm'])\n",
    "df_mass.head()"
   ]
  },
  {
   "cell_type": "code",
   "execution_count": 10,
   "id": "6c4b6576",
   "metadata": {},
   "outputs": [
    {
     "data": {
      "image/png": "[encoded data removed]",
      "text/plain": [
       "<Figure size 435.25x360 with 1 Axes>"
      ]
     },
     "metadata": {
      "needs_background": "light"
     },
     "output_type": "display_data"
    }
   ],
   "source": [
    "sns.catplot(y=\"mass_g\", x=\"variety\", hue=\"sex\",\n",
    "\n",
    "               data=df_mass, kind=\"bar\");"
   ]
  },
  {
   "cell_type": "markdown",
   "id": "6469f8c0",
   "metadata": {},
   "source": [
    "Nous remarquons que les males ont une masse plus eleve que les femeles mais nous remarquons aussi que l'espece de dauphins Peale est en general plus grosse.\n",
    "Pour la suite nous savons deja que le sex et la mass vont jouer un role important dans notre prediction."
   ]
  },
  {
   "cell_type": "markdown",
   "id": "bc604807",
   "metadata": {},
   "source": [
    "#### Etude des zones"
   ]
  },
  {
   "cell_type": "code",
   "execution_count": 11,
   "id": "97f3cc83",
   "metadata": {},
   "outputs": [
    {
     "name": "stdout",
     "output_type": "stream",
     "text": [
      "Caraibean    167\n",
      "Pacific      124\n",
      "Artic         52\n",
      "Name: area, dtype: int64\n",
      "Caraibean    48.688047\n",
      "Pacific      36.151603\n",
      "Artic        15.160350\n",
      "Name: area, dtype: float64\n"
     ]
    },
    {
     "data": {
      "image/png": "[encoded data removed]",
      "text/plain": [
       "<Figure size 432x288 with 1 Axes>"
      ]
     },
     "metadata": {
      "needs_background": "light"
     },
     "output_type": "display_data"
    }
   ],
   "source": [
    "df['area'].value_counts().plot.bar()\n",
    "print(df['area'].value_counts())\n",
    "print(df['area'].value_counts(normalize=True) * 100)"
   ]
  },
  {
   "cell_type": "markdown",
   "id": "77264b04",
   "metadata": {},
   "source": [
    "On remarque qu'il y a seulement 3 zones et que les dauphins se trouvent plus dans les Caraibes "
   ]
  },
  {
   "cell_type": "markdown",
   "id": "c57737f7",
   "metadata": {},
   "source": [
    "## Preprocessing et cleaning des donnees"
   ]
  },
  {
   "cell_type": "markdown",
   "id": "d2520d6b",
   "metadata": {},
   "source": [
    "### Nettoyage des donnees"
   ]
  },
  {
   "cell_type": "markdown",
   "id": "bf3592f8",
   "metadata": {},
   "source": [
    "Nous commencons par compter les valeurs nan dans chaque colonne:"
   ]
  },
  {
   "cell_type": "code",
   "execution_count": 12,
   "id": "f193ee79",
   "metadata": {},
   "outputs": [
    {
     "data": {
      "text/html": [
       "<div>\n",
       "<style scoped>\n",
       "    .dataframe tbody tr th:only-of-type {\n",
       "        vertical-align: middle;\n",
       "    }\n",
       "\n",
       "    .dataframe tbody tr th {\n",
       "        vertical-align: top;\n",
       "    }\n",
       "\n",
       "    .dataframe thead th {\n",
       "        text-align: right;\n",
       "    }\n",
       "</style>\n",
       "<table border=\"1\" class=\"dataframe\">\n",
       "  <thead>\n",
       "    <tr style=\"text-align: right;\">\n",
       "      <th></th>\n",
       "      <th>variety</th>\n",
       "      <th>area</th>\n",
       "      <th>dimension_1_mm</th>\n",
       "      <th>dimension_2_mm</th>\n",
       "      <th>dimension_3_mm</th>\n",
       "      <th>mass_g</th>\n",
       "      <th>sex</th>\n",
       "    </tr>\n",
       "  </thead>\n",
       "  <tbody>\n",
       "    <tr>\n",
       "      <th>0</th>\n",
       "      <td>Tropicalis</td>\n",
       "      <td>Artic</td>\n",
       "      <td>39.1</td>\n",
       "      <td>18.7</td>\n",
       "      <td>181.0</td>\n",
       "      <td>3750.0</td>\n",
       "      <td>MALE</td>\n",
       "    </tr>\n",
       "  </tbody>\n",
       "</table>\n",
       "</div>"
      ],
      "text/plain": [
       "      variety   area  dimension_1_mm  dimension_2_mm  dimension_3_mm  mass_g  \\\n",
       "0  Tropicalis  Artic            39.1            18.7           181.0  3750.0   \n",
       "\n",
       "    sex  \n",
       "0  MALE  "
      ]
     },
     "execution_count": 12,
     "metadata": {},
     "output_type": "execute_result"
    }
   ],
   "source": [
    "df.head(1)"
   ]
  },
  {
   "cell_type": "code",
   "execution_count": 13,
   "id": "0df8661d",
   "metadata": {},
   "outputs": [
    {
     "name": "stdout",
     "output_type": "stream",
     "text": [
      "Notre jeu de donnees a 343 lignes\n"
     ]
    }
   ],
   "source": [
    "print('Notre jeu de donnees a',len(df['variety']),'lignes')"
   ]
  },
  {
   "cell_type": "code",
   "execution_count": 14,
   "id": "d15e41b0",
   "metadata": {},
   "outputs": [
    {
     "data": {
      "text/plain": [
       "variety            0\n",
       "area               0\n",
       "dimension_1_mm     2\n",
       "dimension_2_mm     2\n",
       "dimension_3_mm     2\n",
       "mass_g             2\n",
       "sex               10\n",
       "dtype: int64"
      ]
     },
     "execution_count": 14,
     "metadata": {},
     "output_type": "execute_result"
    }
   ],
   "source": [
    "df.isna().sum()"
   ]
  },
  {
   "cell_type": "markdown",
   "id": "d4f62773",
   "metadata": {},
   "source": [
    "Nous observons qu'il y a tres peu de valeurs manquantes donc nous allons les supprimer "
   ]
  },
  {
   "cell_type": "code",
   "execution_count": 15,
   "id": "5f42a4fc",
   "metadata": {},
   "outputs": [
    {
     "name": "stdout",
     "output_type": "stream",
     "text": [
      "variety           0\n",
      "area              0\n",
      "dimension_1_mm    0\n",
      "dimension_2_mm    0\n",
      "dimension_3_mm    0\n",
      "mass_g            0\n",
      "sex               0\n",
      "dtype: int64\n"
     ]
    }
   ],
   "source": [
    "dfn = df.dropna(axis=0) \n",
    "print(dfn.isna().sum())"
   ]
  },
  {
   "cell_type": "code",
   "execution_count": 16,
   "id": "45399a3a",
   "metadata": {},
   "outputs": [
    {
     "name": "stdout",
     "output_type": "stream",
     "text": [
      "Notre nouveau jeu de donnees a 333 lignes\n"
     ]
    }
   ],
   "source": [
    "print('Notre nouveau jeu de donnees a',len(dfn['variety']),'lignes')"
   ]
  },
  {
   "cell_type": "markdown",
   "id": "5ea8f60d",
   "metadata": {},
   "source": [
    "Nous allons Lower le text pour la derniere partie du TP"
   ]
  },
  {
   "cell_type": "code",
   "execution_count": 17,
   "id": "fe098f1f",
   "metadata": {},
   "outputs": [
    {
     "name": "stderr",
     "output_type": "stream",
     "text": [
      "<ipython-input-17-ac546e64bb04>:1: SettingWithCopyWarning: \n",
      "A value is trying to be set on a copy of a slice from a DataFrame.\n",
      "Try using .loc[row_indexer,col_indexer] = value instead\n",
      "\n",
      "See the caveats in the documentation: https://pandas.pydata.org/pandas-docs/stable/user_guide/indexing.html#returning-a-view-versus-a-copy\n",
      "  dfn['area'] = dfn['area'].str.lower()\n",
      "<ipython-input-17-ac546e64bb04>:2: SettingWithCopyWarning: \n",
      "A value is trying to be set on a copy of a slice from a DataFrame.\n",
      "Try using .loc[row_indexer,col_indexer] = value instead\n",
      "\n",
      "See the caveats in the documentation: https://pandas.pydata.org/pandas-docs/stable/user_guide/indexing.html#returning-a-view-versus-a-copy\n",
      "  dfn['sex'] = dfn['sex'].str.lower()\n"
     ]
    }
   ],
   "source": [
    "dfn['area'] = dfn['area'].str.lower()\n",
    "dfn['sex'] = dfn['sex'].str.lower()"
   ]
  },
  {
   "cell_type": "markdown",
   "id": "0c18f0fa",
   "metadata": {},
   "source": [
    "Nous avons perdu seulement 10 lignes dans ce nettoyage donc cela n'est pas tres important pour la suite, notre DF est maintenant pret pour la partie encodage."
   ]
  },
  {
   "cell_type": "markdown",
   "id": "c81e6a37",
   "metadata": {},
   "source": [
    "### Encodage du jeu de donnees\n"
   ]
  },
  {
   "cell_type": "code",
   "execution_count": 18,
   "id": "1950c4c5",
   "metadata": {},
   "outputs": [],
   "source": [
    "from sklearn.preprocessing import LabelEncoder\n",
    "from sklearn.model_selection import train_test_split\n",
    "from sklearn.model_selection import StratifiedKFold, cross_val_score\n",
    "from sklearn.ensemble import RandomForestClassifier\n",
    "from sklearn.metrics import confusion_matrix, recall_score\n",
    "from sklearn.neighbors import KNeighborsClassifier\n",
    "from sklearn.pipeline import Pipeline\n",
    "from sklearn.preprocessing import MinMaxScaler, StandardScaler, OneHotEncoder\n",
    "from sklearn.compose import ColumnTransformer"
   ]
  },
  {
   "cell_type": "markdown",
   "id": "8fc4bdb7",
   "metadata": {},
   "source": [
    "#### Typage des donnees"
   ]
  },
  {
   "cell_type": "code",
   "execution_count": 19,
   "id": "dc3c841f",
   "metadata": {},
   "outputs": [
    {
     "data": {
      "text/html": [
       "<div>\n",
       "<style scoped>\n",
       "    .dataframe tbody tr th:only-of-type {\n",
       "        vertical-align: middle;\n",
       "    }\n",
       "\n",
       "    .dataframe tbody tr th {\n",
       "        vertical-align: top;\n",
       "    }\n",
       "\n",
       "    .dataframe thead th {\n",
       "        text-align: right;\n",
       "    }\n",
       "</style>\n",
       "<table border=\"1\" class=\"dataframe\">\n",
       "  <thead>\n",
       "    <tr style=\"text-align: right;\">\n",
       "      <th></th>\n",
       "      <th>variety</th>\n",
       "      <th>area</th>\n",
       "      <th>dimension_1_mm</th>\n",
       "      <th>dimension_2_mm</th>\n",
       "      <th>dimension_3_mm</th>\n",
       "      <th>mass_g</th>\n",
       "      <th>sex</th>\n",
       "    </tr>\n",
       "  </thead>\n",
       "  <tbody>\n",
       "    <tr>\n",
       "      <th>0</th>\n",
       "      <td>Tropicalis</td>\n",
       "      <td>artic</td>\n",
       "      <td>39.1</td>\n",
       "      <td>18.7</td>\n",
       "      <td>181.0</td>\n",
       "      <td>3750.0</td>\n",
       "      <td>male</td>\n",
       "    </tr>\n",
       "  </tbody>\n",
       "</table>\n",
       "</div>"
      ],
      "text/plain": [
       "      variety   area  dimension_1_mm  dimension_2_mm  dimension_3_mm  mass_g  \\\n",
       "0  Tropicalis  artic            39.1            18.7           181.0  3750.0   \n",
       "\n",
       "    sex  \n",
       "0  male  "
      ]
     },
     "execution_count": 19,
     "metadata": {},
     "output_type": "execute_result"
    }
   ],
   "source": [
    "dfn.head(1)"
   ]
  },
  {
   "cell_type": "markdown",
   "id": "6fe25fb5",
   "metadata": {},
   "source": [
    "Maintenant nous allons pouvoir encoder notre jeu de donnees:\n",
    "\n",
    "Les donnees categorielles:\n",
    "- Area\n",
    "- Sex\n",
    "- La target: variety\n",
    "\n",
    "Les donnees numeriques:\n",
    "\n",
    "- Dimension 1, 2 et 3\n",
    "- La masse"
   ]
  },
  {
   "cell_type": "markdown",
   "id": "d4578b73",
   "metadata": {},
   "source": [
    "#### selection de la target et des features et creation du pipiline"
   ]
  },
  {
   "cell_type": "code",
   "execution_count": 20,
   "id": "dd8788f3",
   "metadata": {},
   "outputs": [
    {
     "name": "stdout",
     "output_type": "stream",
     "text": [
      "La target: y\n"
     ]
    }
   ],
   "source": [
    "print('La target: y')\n",
    "y= dfn['variety']"
   ]
  },
  {
   "cell_type": "code",
   "execution_count": 21,
   "id": "b843bd13",
   "metadata": {},
   "outputs": [
    {
     "name": "stdout",
     "output_type": "stream",
     "text": [
      "Les features: X\n"
     ]
    }
   ],
   "source": [
    "print('Les features: X')\n",
    "X = dfn.drop(['variety'], axis = 1 )"
   ]
  },
  {
   "cell_type": "code",
   "execution_count": 22,
   "id": "90200cfc",
   "metadata": {},
   "outputs": [],
   "source": [
    "categorical_features = ['sex','area']\n",
    "\n",
    "\n",
    "categorical_transformer = Pipeline(steps=[    \n",
    "    ('onehot', OneHotEncoder(handle_unknown='ignore'))])\n",
    "\n",
    "#encodage des valeurs numeriques\n",
    "numeric_features = ['dimension_1_mm','dimension_2_mm','dimension_3_mm','mass_g']\n",
    "\n",
    "numeric_transformer = Pipeline(steps=[('MinMax' , MinMaxScaler())])\n",
    "\n",
    "#ensemblage des features:\n",
    "\n",
    "preprocessor = ColumnTransformer(\n",
    "    transformers=[\n",
    "        (\"cat\", categorical_transformer, categorical_features),\n",
    "        ('num', numeric_transformer, numeric_features)\n",
    "        \n",
    "        ])\n"
   ]
  },
  {
   "cell_type": "markdown",
   "id": "03f792c1",
   "metadata": {},
   "source": [
    "Pour la creation du pipeline j'ai decide d'utiliser un one hot encoders pour  valeurs categorielle et un MinMaxScaler encoder car j'ai remarque au tout debut de l'etude qu'il y avait une grande disparite entre les features numeriques"
   ]
  },
  {
   "cell_type": "markdown",
   "id": "b0799d5b",
   "metadata": {},
   "source": [
    "### Analyse des modeles"
   ]
  },
  {
   "cell_type": "markdown",
   "id": "104a9501",
   "metadata": {},
   "source": [
    "#### Random forest"
   ]
  },
  {
   "cell_type": "code",
   "execution_count": 23,
   "id": "de1a8836",
   "metadata": {},
   "outputs": [
    {
     "name": "stdout",
     "output_type": "stream",
     "text": [
      "model score: 0.985\n"
     ]
    }
   ],
   "source": [
    "clf_rf = Pipeline(\n",
    "    steps=[(\"preprocessor\", preprocessor), (\"Classifier\",  RandomForestClassifier())]\n",
    ")\n",
    "#splitting du model\n",
    "X_train, X_test, y_train, y_test = train_test_split(X, y, test_size=0.2, random_state=0)\n",
    "\n",
    "#entrainement du model\n",
    "\n",
    "clf_rf.fit(X_train, y_train)\n",
    "print(\"model score: %.3f\" % clf_rf.score(X_test, y_test))"
   ]
  },
  {
   "cell_type": "code",
   "execution_count": 24,
   "id": "a0b166bb",
   "metadata": {},
   "outputs": [
    {
     "name": "stdout",
     "output_type": "stream",
     "text": [
      "\n",
      "[[ 9  0  1]\n",
      " [ 0 18  0]\n",
      " [ 0  0 39]]\n",
      "\n",
      "On remarque que le modele est plutot tres performant est ne se trompe qu'une seule fois\n"
     ]
    }
   ],
   "source": [
    "predictionRF = clf_rf.predict(X_train)\n",
    "predictionRF_test = clf_rf.predict(X_test)\n",
    "print()\n",
    "print(confusion_matrix(y_test, predictionRF_test))\n",
    "print()\n",
    "print(\"On remarque que le modele est plutot tres performant est ne se trompe qu'une seule fois\")"
   ]
  },
  {
   "cell_type": "markdown",
   "id": "90d79063",
   "metadata": {},
   "source": [
    " A mon sens il est inutil d'utiliser un Gridsearch car le modele est deja tres performant\n",
    " de plus il est aussi inutil de faire un cross validation car les donnees sont plutot bien reparties"
   ]
  },
  {
   "cell_type": "markdown",
   "id": "f0d9dca4",
   "metadata": {},
   "source": [
    "#### Modele KNN"
   ]
  },
  {
   "cell_type": "markdown",
   "id": "3fdd6664",
   "metadata": {},
   "source": [
    "Nous allons essayer un nouveau modele"
   ]
  },
  {
   "cell_type": "code",
   "execution_count": 25,
   "id": "56071396",
   "metadata": {},
   "outputs": [
    {
     "name": "stdout",
     "output_type": "stream",
     "text": [
      "model score: 1.000\n"
     ]
    }
   ],
   "source": [
    "clf_knn = Pipeline(\n",
    "    steps=[(\"preprocessor\", preprocessor), (\"Classifier\",  KNeighborsClassifier())]\n",
    ")\n",
    "#splitting du model\n",
    "X_train, X_test, y_train, y_test = train_test_split(X, y, test_size=0.2, random_state=15)\n",
    "\n",
    "#entrainement du model\n",
    "\n",
    "clf_knn.fit(X_train, y_train)\n",
    "print(\"model score: %.3f\" % clf_knn.score(X_test, y_test))"
   ]
  },
  {
   "cell_type": "code",
   "execution_count": 48,
   "id": "164e7750",
   "metadata": {},
   "outputs": [
    {
     "name": "stdout",
     "output_type": "stream",
     "text": [
      "\n",
      "[[16  0  0]\n",
      " [ 0 22  0]\n",
      " [ 0  0 29]]\n",
      "\n",
      "On remarque que le modele est plutot tres performant est ne se trompe jamais, il est parfait !!!\n",
      "Je choisis donc ce modele\n"
     ]
    }
   ],
   "source": [
    "predictionKNN = clf_knn.predict(X_train)\n",
    "predictionKNN_test = clf_knn.predict(X_test)\n",
    "print()\n",
    "print(confusion_matrix(y_test, predictionKNN_test))\n",
    "print()\n",
    "print(\"On remarque que le modele est plutot tres performant est ne se trompe jamais, il est parfait !!!\")\n",
    "print('Je choisis donc ce modele')"
   ]
  },
  {
   "cell_type": "markdown",
   "id": "7977f23c",
   "metadata": {},
   "source": [
    "### Interface graphique"
   ]
  },
  {
   "cell_type": "markdown",
   "id": "916efa7d",
   "metadata": {},
   "source": [
    "Dans cette partie nous allons creer une petite interface pour predire une espece de dauphin:"
   ]
  },
  {
   "cell_type": "code",
   "execution_count": 27,
   "id": "eccfdf81",
   "metadata": {},
   "outputs": [
    {
     "data": {
      "text/html": [
       "<div>\n",
       "<style scoped>\n",
       "    .dataframe tbody tr th:only-of-type {\n",
       "        vertical-align: middle;\n",
       "    }\n",
       "\n",
       "    .dataframe tbody tr th {\n",
       "        vertical-align: top;\n",
       "    }\n",
       "\n",
       "    .dataframe thead th {\n",
       "        text-align: right;\n",
       "    }\n",
       "</style>\n",
       "<table border=\"1\" class=\"dataframe\">\n",
       "  <thead>\n",
       "    <tr style=\"text-align: right;\">\n",
       "      <th></th>\n",
       "      <th>area</th>\n",
       "      <th>dimension_1_mm</th>\n",
       "      <th>dimension_2_mm</th>\n",
       "      <th>dimension_3_mm</th>\n",
       "      <th>mass_g</th>\n",
       "      <th>sex</th>\n",
       "    </tr>\n",
       "  </thead>\n",
       "  <tbody>\n",
       "    <tr>\n",
       "      <th>0</th>\n",
       "      <td>artic</td>\n",
       "      <td>39.1</td>\n",
       "      <td>18.7</td>\n",
       "      <td>181.0</td>\n",
       "      <td>3750.0</td>\n",
       "      <td>male</td>\n",
       "    </tr>\n",
       "  </tbody>\n",
       "</table>\n",
       "</div>"
      ],
      "text/plain": [
       "    area  dimension_1_mm  dimension_2_mm  dimension_3_mm  mass_g   sex\n",
       "0  artic            39.1            18.7           181.0  3750.0  male"
      ]
     },
     "execution_count": 27,
     "metadata": {},
     "output_type": "execute_result"
    }
   ],
   "source": [
    "X.head(1)"
   ]
  },
  {
   "cell_type": "code",
   "execution_count": 44,
   "id": "5e40d006",
   "metadata": {},
   "outputs": [
    {
     "name": "stdout",
     "output_type": "stream",
     "text": [
      "rentrez les donnes du dauphin\n"
     ]
    }
   ],
   "source": [
    "print('rentrez les donnes du dauphin')"
   ]
  },
  {
   "cell_type": "code",
   "execution_count": 29,
   "id": "5b9e5e24",
   "metadata": {},
   "outputs": [
    {
     "name": "stdout",
     "output_type": "stream",
     "text": [
      "le lieux:artic\n"
     ]
    }
   ],
   "source": [
    "area = input('le lieux:')"
   ]
  },
  {
   "cell_type": "code",
   "execution_count": 31,
   "id": "a5c7fc59",
   "metadata": {},
   "outputs": [
    {
     "name": "stdout",
     "output_type": "stream",
     "text": [
      "dimension_140\n"
     ]
    }
   ],
   "source": [
    "dimension_1_mm = input('dimension_1: ')"
   ]
  },
  {
   "cell_type": "code",
   "execution_count": 32,
   "id": "4f441d85",
   "metadata": {},
   "outputs": [
    {
     "name": "stdout",
     "output_type": "stream",
     "text": [
      "dimension_2: 20\n"
     ]
    }
   ],
   "source": [
    "dimension_2_mm = input('dimension_2: ')"
   ]
  },
  {
   "cell_type": "code",
   "execution_count": 33,
   "id": "7b6b1f83",
   "metadata": {},
   "outputs": [
    {
     "name": "stdout",
     "output_type": "stream",
     "text": [
      "dimension_3: 25\n"
     ]
    }
   ],
   "source": [
    "dimension_3_mm = input('dimension_3: ')"
   ]
  },
  {
   "cell_type": "code",
   "execution_count": 34,
   "id": "58836531",
   "metadata": {},
   "outputs": [
    {
     "name": "stdout",
     "output_type": "stream",
     "text": [
      "la masse:4000\n"
     ]
    }
   ],
   "source": [
    "mass_g = input('la masse:')"
   ]
  },
  {
   "cell_type": "code",
   "execution_count": 36,
   "id": "e028177d",
   "metadata": {},
   "outputs": [
    {
     "name": "stdout",
     "output_type": "stream",
     "text": [
      "le sex: male\n"
     ]
    }
   ],
   "source": [
    "sex = input('le sex: ')"
   ]
  },
  {
   "cell_type": "code",
   "execution_count": 39,
   "id": "a27c7b7e",
   "metadata": {},
   "outputs": [],
   "source": [
    "get_data = []\n",
    "get_data.append({'area': area , \"dimension_1_mm\": dimension_1_mm, \"dimension_2_mm\": dimension_2_mm,'dimension_3_mm':dimension_3_mm,'mass_g':mass_g,'sex': sex})        \n"
   ]
  },
  {
   "cell_type": "code",
   "execution_count": 40,
   "id": "7812563d",
   "metadata": {},
   "outputs": [],
   "source": [
    "df_p = pd.DataFrame(get_data)"
   ]
  },
  {
   "cell_type": "code",
   "execution_count": 41,
   "id": "eb1b0a3f",
   "metadata": {},
   "outputs": [
    {
     "data": {
      "text/html": [
       "<div>\n",
       "<style scoped>\n",
       "    .dataframe tbody tr th:only-of-type {\n",
       "        vertical-align: middle;\n",
       "    }\n",
       "\n",
       "    .dataframe tbody tr th {\n",
       "        vertical-align: top;\n",
       "    }\n",
       "\n",
       "    .dataframe thead th {\n",
       "        text-align: right;\n",
       "    }\n",
       "</style>\n",
       "<table border=\"1\" class=\"dataframe\">\n",
       "  <thead>\n",
       "    <tr style=\"text-align: right;\">\n",
       "      <th></th>\n",
       "      <th>area</th>\n",
       "      <th>dimension_1_mm</th>\n",
       "      <th>dimension_2_mm</th>\n",
       "      <th>dimension_3_mm</th>\n",
       "      <th>mass_g</th>\n",
       "      <th>sex</th>\n",
       "    </tr>\n",
       "  </thead>\n",
       "  <tbody>\n",
       "    <tr>\n",
       "      <th>0</th>\n",
       "      <td>artic</td>\n",
       "      <td>40</td>\n",
       "      <td>20</td>\n",
       "      <td>25</td>\n",
       "      <td>4000</td>\n",
       "      <td>male</td>\n",
       "    </tr>\n",
       "  </tbody>\n",
       "</table>\n",
       "</div>"
      ],
      "text/plain": [
       "    area dimension_1_mm dimension_2_mm dimension_3_mm mass_g   sex\n",
       "0  artic             40             20             25   4000  male"
      ]
     },
     "execution_count": 41,
     "metadata": {},
     "output_type": "execute_result"
    }
   ],
   "source": [
    "df_p"
   ]
  },
  {
   "cell_type": "code",
   "execution_count": 46,
   "id": "2318b8b6",
   "metadata": {},
   "outputs": [
    {
     "name": "stdout",
     "output_type": "stream",
     "text": [
      "L'espece de dauphin est Tropicalis\n"
     ]
    }
   ],
   "source": [
    "prediction = clf_knn.predict(df_p)\n",
    "print(\"L'espece de dauphin est\",prediction[0])"
   ]
  },
  {
   "cell_type": "code",
   "execution_count": null,
   "id": "d9298693",
   "metadata": {},
   "outputs": [],
   "source": []
  },
  {
   "cell_type": "code",
   "execution_count": null,
   "id": "229031dc",
   "metadata": {},
   "outputs": [],
   "source": []
  },
  {
   "cell_type": "code",
   "execution_count": null,
   "id": "cf564829",
   "metadata": {},
   "outputs": [],
   "source": []
  },
  {
   "cell_type": "code",
   "execution_count": null,
   "id": "015d9b8c",
   "metadata": {},
   "outputs": [],
   "source": []
  },
  {
   "cell_type": "code",
   "execution_count": null,
   "id": "e41bfb20",
   "metadata": {},
   "outputs": [],
   "source": []
  },
  {
   "cell_type": "code",
   "execution_count": null,
   "id": "9358c701",
   "metadata": {},
   "outputs": [],
   "source": []
  },
  {
   "cell_type": "code",
   "execution_count": null,
   "id": "bc438270",
   "metadata": {},
   "outputs": [],
   "source": []
  },
  {
   "cell_type": "code",
   "execution_count": null,
   "id": "5d508bcc",
   "metadata": {},
   "outputs": [],
   "source": []
  }
 ],
 "metadata": {
  "kernelspec": {
   "display_name": "Python 3",
   "language": "python",
   "name": "python3"
  },
  "language_info": {
   "codemirror_mode": {
    "name": "ipython",
    "version": 3
   },
   "file_extension": ".py",
   "mimetype": "text/x-python",
   "name": "python",
   "nbconvert_exporter": "python",
   "pygments_lexer": "ipython3",
   "version": "3.8.8"
  },
  "toc": {
   "base_numbering": 1,
   "nav_menu": {},
   "number_sections": true,
   "sideBar": true,
   "skip_h1_title": false,
   "title_cell": "Table of Contents",
   "title_sidebar": "Contents",
   "toc_cell": false,
   "toc_position": {},
   "toc_section_display": true,
   "toc_window_display": false
  }
 },
 "nbformat": 4,
 "nbformat_minor": 5
}
